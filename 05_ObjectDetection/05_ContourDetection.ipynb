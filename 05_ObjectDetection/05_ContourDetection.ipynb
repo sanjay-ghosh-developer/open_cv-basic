{
 "cells": [
  {
   "cell_type": "markdown",
   "metadata": {},
   "source": [
    "# Contour Detection"
   ]
  },
  {
   "cell_type": "markdown",
   "metadata": {},
   "source": [
    "#### Contour is a curve joining all the continous points along the boundary of an object. Countours has thr same color and intensity"
   ]
  },
  {
   "cell_type": "code",
   "execution_count": 2,
   "metadata": {},
   "outputs": [],
   "source": [
    "import cv2\n",
    "import numpy as np\n",
    "import matplotlib.pyplot as plt\n",
    "%matplotlib inline"
   ]
  },
  {
   "cell_type": "code",
   "execution_count": 5,
   "metadata": {},
   "outputs": [
    {
     "data": {
      "text/plain": [
       "<matplotlib.image.AxesImage at 0x7f29fb9925c0>"
      ]
     },
     "execution_count": 5,
     "metadata": {},
     "output_type": "execute_result"
    },
    {
     "data": {
      "image/png": "[encoded data removed]",
      "text/plain": [
       "<Figure size 432x288 with 1 Axes>"
      ]
     },
     "metadata": {
      "needs_background": "light"
     },
     "output_type": "display_data"
    }
   ],
   "source": [
    "img = cv2.imread('internal_external.png',0)\n",
    "plt.imshow(img, cmap='gray')"
   ]
  },
  {
   "cell_type": "code",
   "execution_count": 6,
   "metadata": {},
   "outputs": [
    {
     "data": {
      "text/plain": [
       "(652, 1080)"
      ]
     },
     "execution_count": 6,
     "metadata": {},
     "output_type": "execute_result"
    }
   ],
   "source": [
    "img.shape"
   ]
  },
  {
   "cell_type": "code",
   "execution_count": 12,
   "metadata": {},
   "outputs": [],
   "source": [
    "#Extracting contours\n",
    "contours, hierarchy = cv2.findContours(img, cv2.RETR_CCOMP, cv2.CHAIN_APPROX_SIMPLE)"
   ]
  },
  {
   "cell_type": "markdown",
   "metadata": {},
   "source": [
    "#### There are so many RETR functions used in the findContour function. Its based on these functions that the contours are calculated\n",
    "#### We can get the internal, external or both using different RETR functions\n",
    "* cv2.RETR_EXTERNAL:Only extracts external contours\n",
    "* cv2.RETR_CCOMP: Extracts both internal and external contours organized in a two-level hierarchy\n",
    "* cv2.RETR_TREE: Extracts both internal and external contours organized in a  tree graph\n",
    "* cv2.RETR_LIST: Extracts all contours without any internal/external relationship"
   ]
  },
  {
   "cell_type": "code",
   "execution_count": 13,
   "metadata": {},
   "outputs": [
    {
     "data": {
      "text/plain": [
       "list"
      ]
     },
     "execution_count": 13,
     "metadata": {},
     "output_type": "execute_result"
    }
   ],
   "source": [
    "type(contours)"
   ]
  },
  {
   "cell_type": "code",
   "execution_count": 16,
   "metadata": {},
   "outputs": [
    {
     "data": {
      "text/plain": [
       "22"
      ]
     },
     "execution_count": 16,
     "metadata": {},
     "output_type": "execute_result"
    }
   ],
   "source": [
    "len(contours)"
   ]
  },
  {
   "cell_type": "code",
   "execution_count": 17,
   "metadata": {},
   "outputs": [
    {
     "data": {
      "text/plain": [
       "numpy.ndarray"
      ]
     },
     "execution_count": 17,
     "metadata": {},
     "output_type": "execute_result"
    }
   ],
   "source": [
    "type(hierarchy)"
   ]
  },
  {
   "cell_type": "code",
   "execution_count": 18,
   "metadata": {},
   "outputs": [
    {
     "data": {
      "text/plain": [
       "(1, 22, 4)"
      ]
     },
     "execution_count": 18,
     "metadata": {},
     "output_type": "execute_result"
    }
   ],
   "source": [
    "hierarchy.shape"
   ]
  },
  {
   "cell_type": "code",
   "execution_count": 19,
   "metadata": {},
   "outputs": [
    {
     "data": {
      "text/plain": [
       "array([[[ 4, -1,  1, -1],\n",
       "        [ 2, -1, -1,  0],\n",
       "        [ 3,  1, -1,  0],\n",
       "        [-1,  2, -1,  0],\n",
       "        [21,  0,  5, -1],\n",
       "        [ 6, -1, -1,  4],\n",
       "        [ 7,  5, -1,  4],\n",
       "        [ 8,  6, -1,  4],\n",
       "        [ 9,  7, -1,  4],\n",
       "        [10,  8, -1,  4],\n",
       "        [11,  9, -1,  4],\n",
       "        [12, 10, -1,  4],\n",
       "        [13, 11, -1,  4],\n",
       "        [14, 12, -1,  4],\n",
       "        [15, 13, -1,  4],\n",
       "        [16, 14, -1,  4],\n",
       "        [17, 15, -1,  4],\n",
       "        [18, 16, -1,  4],\n",
       "        [19, 17, -1,  4],\n",
       "        [20, 18, -1,  4],\n",
       "        [-1, 19, -1,  4],\n",
       "        [-1,  4, -1, -1]]], dtype=int32)"
      ]
     },
     "execution_count": 19,
     "metadata": {},
     "output_type": "execute_result"
    }
   ],
   "source": [
    "hierarchy"
   ]
  },
  {
   "cell_type": "code",
   "execution_count": 21,
   "metadata": {},
   "outputs": [],
   "source": [
    "# Draw External Contours\n",
    "\n",
    "# Set up empty array\n",
    "external_contours = np.zeros(img.shape)\n",
    "\n",
    "# For every entry in contours\n",
    "for i in range(len(contours)):\n",
    "    \n",
    "    # last column in the array is -1 if an external contour (no contours inside of it)\n",
    "    if hierarchy[0][i][3] == -1:\n",
    "        \n",
    "        # We can now draw the external contours from the list of contours\n",
    "        cv2.drawContours(external_contours, contours, i, 255, -1)"
   ]
  },
  {
   "cell_type": "code",
   "execution_count": 23,
   "metadata": {},
   "outputs": [
    {
     "data": {
      "text/plain": [
       "<matplotlib.image.AxesImage at 0x7f29fb88eba8>"
      ]
     },
     "execution_count": 23,
     "metadata": {},
     "output_type": "execute_result"
    },
    {
     "data": {
      "image/png": "[encoded data removed]",
      "text/plain": [
       "<Figure size 432x288 with 1 Axes>"
      ]
     },
     "metadata": {
      "needs_background": "light"
     },
     "output_type": "display_data"
    }
   ],
   "source": [
    "plt.imshow(external_contours, cmap='gray')"
   ]
  },
  {
   "cell_type": "code",
   "execution_count": 25,
   "metadata": {},
   "outputs": [],
   "source": [
    "# Create empty array to hold all internal contours\n",
    "internal_contour = np.zeros(img.shape)\n",
    "\n",
    "# Iterate through list of contour arrays\n",
    "for i in range(len(contours)):\n",
    "    # If third column value is NOT equal to -1 than its internal\n",
    "    if hierarchy[0][i][3] != -1:\n",
    "        \n",
    "        # Draw the Contour\n",
    "        cv2.drawContours(internal_contour, contours, i, 255, -1)"
   ]
  },
  {
   "cell_type": "code",
   "execution_count": 27,
   "metadata": {},
   "outputs": [
    {
     "data": {
      "text/plain": [
       "<matplotlib.image.AxesImage at 0x7f29fb7c86d8>"
      ]
     },
     "execution_count": 27,
     "metadata": {},
     "output_type": "execute_result"
    },
    {
     "data": {
      "image/png": "[encoded data removed]",
      "text/plain": [
       "<Figure size 432x288 with 1 Axes>"
      ]
     },
     "metadata": {
      "needs_background": "light"
     },
     "output_type": "display_data"
    }
   ],
   "source": [
    "plt.imshow(internal_contour, cmap='gray')"
   ]
  },
  {
   "cell_type": "code",
   "execution_count": 29,
   "metadata": {},
   "outputs": [
    {
     "data": {
      "text/plain": [
       "<matplotlib.image.AxesImage at 0x7f29f8201940>"
      ]
     },
     "execution_count": 29,
     "metadata": {},
     "output_type": "execute_result"
    },
    {
     "data": {
      "image/png": "[encoded data removed]",
      "text/plain": [
       "<Figure size 432x288 with 1 Axes>"
      ]
     },
     "metadata": {
      "needs_background": "light"
     },
     "output_type": "display_data"
    }
   ],
   "source": [
    "internal_pizza"
   ]
  },
  {
   "cell_type": "code",
   "execution_count": 30,
   "metadata": {},
   "outputs": [],
   "source": [
    "# Create empty array to hold all internal contours\n",
    "internal_face = np.zeros(img.shape)\n",
    "\n",
    "# Iterate through list of contour arrays\n",
    "for i in range(len(contours)):\n",
    "    # If third column value is NOT equal to -1 than its internal, lets plot value 0\n",
    "    if hierarchy[0][i][3] == 0:\n",
    "        \n",
    "        # Draw the Contour\n",
    "        cv2.drawContours(internal_face, contours, i, 255, -1)"
   ]
  },
  {
   "cell_type": "code",
   "execution_count": 31,
   "metadata": {},
   "outputs": [
    {
     "data": {
      "text/plain": [
       "<matplotlib.image.AxesImage at 0x7f29f81dc6a0>"
      ]
     },
     "execution_count": 31,
     "metadata": {},
     "output_type": "execute_result"
    },
    {
     "data": {
      "image/png": "[encoded data removed]",
      "text/plain": [
       "<Figure size 432x288 with 1 Axes>"
      ]
     },
     "metadata": {
      "needs_background": "light"
     },
     "output_type": "display_data"
    }
   ],
   "source": [
    "plt.imshow(internal_face, cmap='gray')"
   ]
  },
  {
   "cell_type": "code",
   "execution_count": 37,
   "metadata": {},
   "outputs": [
    {
     "data": {
      "image/png": "[encoded data removed]",
      "text/plain": [
       "<Figure size 720x720 with 5 Axes>"
      ]
     },
     "metadata": {
      "needs_background": "light"
     },
     "output_type": "display_data"
    }
   ],
   "source": [
    "plt.figure(figsize=(10,10))\n",
    "plt.subplot(321)\n",
    "plt.imshow(img, cmap='gray')\n",
    "plt.title(\"Actual Image\")\n",
    "\n",
    "plt.subplot(322)\n",
    "plt.imshow(external_contours, cmap='gray')\n",
    "plt.title(\"External Contours\")\n",
    "\n",
    "plt.subplot(323)\n",
    "plt.imshow(internal_contour, cmap='gray')\n",
    "plt.title(\"Internal Contours\")\n",
    "\n",
    "plt.subplot(324)\n",
    "plt.imshow(internal_pizza, cmap='gray')\n",
    "plt.title(\"Internal Contours Pizza\")\n",
    "\n",
    "\n",
    "plt.subplot(325)\n",
    "plt.imshow(internal_face, cmap='gray')\n",
    "plt.title(\"Internal Contours Face\")\n",
    "\n",
    "plt.show()"
   ]
  },
  {
   "cell_type": "code",
   "execution_count": null,
   "metadata": {},
   "outputs": [],
   "source": []
  }
 ],
 "metadata": {
  "kernelspec": {
   "display_name": "Python 3",
   "language": "python",
   "name": "python3"
  },
  "language_info": {
   "codemirror_mode": {
    "name": "ipython",
    "version": 3
   },
   "file_extension": ".py",
   "mimetype": "text/x-python",
   "name": "python",
   "nbconvert_exporter": "python",
   "pygments_lexer": "ipython3",
   "version": "3.7.0"
  }
 },
 "nbformat": 4,
 "nbformat_minor": 2
}
